{
 "cells": [
  {
   "cell_type": "markdown",
   "metadata": {
    "hideCode": false,
    "hidePrompt": false
   },
   "source": [
    "# Variability between and within metabolic paths\n",
    "\n",
    "- Two different organisms: Mycoplasma pneumoniae and Mycoplasma agalactiae, we present how, in quantification by shotgun proteomics, proteins connected in a linear path present similar values. \n",
    "\n",
    "- Input:\n",
    "    - Tab delimited files manually generated: \n",
    "             'gene_ide'        'path_number'\n",
    "    - Protein quantification \n",
    "             'gene_ide'        'area'        'log2(area)'\n",
    "             \n",
    "- Output:\n",
    "    - Coefficient of for different paths compared to the expected by chance (calculated \n",
    "    \n",
    "## Requirements\n",
    "\n",
    "All easily instalable using pip or conda"
   ]
  },
  {
   "cell_type": "code",
   "execution_count": 88,
   "metadata": {
    "hideCode": false,
    "hidePrompt": false
   },
   "outputs": [],
   "source": [
    "import numpy as np\n",
    "import pandas as pd\n",
    "from random import sample\n",
    "import matplotlib.pyplot as plt\n",
    "import seaborn as sns "
   ]
  },
  {
   "cell_type": "markdown",
   "metadata": {},
   "source": [
    "## Load data"
   ]
  },
  {
   "cell_type": "code",
   "execution_count": null,
   "metadata": {
    "collapsed": true
   },
   "outputs": [],
   "source": [
    "\n",
    "def coeff_var(dist):\n",
    "    \"\"\" Given a distribution/array, returns coeff of variation \"\"\"\n",
    "    return np.std(dist)/np.mean(dist)*100\n",
    "\n",
    "\n",
    "def return_metric(genes, quant, n_iter=1000):\n",
    "    \"\"\"\n",
    "    Given a list of genes and quantification information,\n",
    "    calculates coeff of variation\n",
    "    \n",
    "    For an actual set returns observed, expected calculated \n",
    "    randomly extracting <n_iter> sets with same length than \n",
    "    genes to compute the coeff by chance\n",
    "    \"\"\"\n",
    "    rs = {} \n",
    "    genelist = [ide for ide in genes if ide in set(quant.index)]\n",
    "    ggg = '|'.join(genelist)\n",
    "    rs[0] = [ggg, [quant.loc[ide]['au'] for ide in genelist], [quant.loc[ide]['logau'] for ide in genelist], 'observed']\n",
    "\n",
    "    # randomize    \n",
    "    c=1\n",
    "    for nnn in range(n_iter):\n",
    "        s = sample(list(quant.index), len(genelist))\n",
    "        ggg = '|'.join(s)\n",
    "        rs[c] = [ggg, [quant.loc[ide]['au'] for ide in s], [quant.loc[ide]['logau'] for ide in s], 'expected']\n",
    "        c+=1\n",
    "    # metric\n",
    "    return {k:[v[0], round(coeff_var(v[1]), 2), round(coeff_var(v[2]), 2), v[3]] for k, v in rs.items()}\n",
    "\n",
    "def run_analysis(paths, quant):\n",
    "    \"\"\"\n",
    "    Given the input paths and proteomics quantification, \n",
    "    Runs Coeff of variation analysis\n",
    "    \"\"\"\n",
    "    \n",
    "    complexes = ['MPN390', 'MPN391', 'MPN392', 'MPN393',\n",
    "                 'MAGA7784_RS00520', 'MAGA7784_RS02680', \n",
    "                 'MAGA7784_RS00505', 'MAGA7784_RS00515', \n",
    "                 'MAGA7784_RS00500']\n",
    "\n",
    "    # fix complexes + metric\n",
    "    rs = {}\n",
    "    for i in set(paths['path']):\n",
    "        genes = list(paths[paths['path']==i].index)\n",
    "        print(genes)\n",
    "        \n",
    "        if any([g in genes for g in complexes]):\n",
    "            genes = [g for g in genes if g not in complexes]+['pyrcomp']\n",
    "        \n",
    "        # simulate\n",
    "        if len(rs)==0:\n",
    "            start = 0\n",
    "        else:\n",
    "            start = max(rs.keys())+1\n",
    "        \n",
    "        subrs = return_metric(genes, quant)\n",
    "        subrs = {k+start:v+[i] for k, v in subrs.items()}\n",
    "        rs.update(subrs)\n",
    "    \n",
    "    df = pd.DataFrame.from_dict(rs, orient='index')\n",
    "    df.columns = ['genes', 'raw CV', 'log(CV)', 'type', 'path']\n",
    "    \n",
    "    return df"
   ]
  },
  {
   "cell_type": "markdown",
   "metadata": {
    "hideCode": false,
    "hidePrompt": false
   },
   "source": [
    "## Load path info (available in './data/')\n"
   ]
  },
  {
   "cell_type": "code",
   "execution_count": 95,
   "metadata": {
    "hideCode": false,
    "hidePrompt": false,
    "scrolled": true
   },
   "outputs": [
    {
     "data": {
      "text/html": [
       "<div>\n",
       "<style scoped>\n",
       "    .dataframe tbody tr th:only-of-type {\n",
       "        vertical-align: middle;\n",
       "    }\n",
       "\n",
       "    .dataframe tbody tr th {\n",
       "        vertical-align: top;\n",
       "    }\n",
       "\n",
       "    .dataframe thead th {\n",
       "        text-align: right;\n",
       "    }\n",
       "</style>\n",
       "<table border=\"1\" class=\"dataframe\">\n",
       "  <thead>\n",
       "    <tr style=\"text-align: right;\">\n",
       "      <th></th>\n",
       "      <th>path</th>\n",
       "    </tr>\n",
       "    <tr>\n",
       "      <th>ide</th>\n",
       "      <th></th>\n",
       "    </tr>\n",
       "  </thead>\n",
       "  <tbody>\n",
       "    <tr>\n",
       "      <td>MPN667</td>\n",
       "      <td>1</td>\n",
       "    </tr>\n",
       "    <tr>\n",
       "      <td>MPN257</td>\n",
       "      <td>1</td>\n",
       "    </tr>\n",
       "    <tr>\n",
       "      <td>MPN350</td>\n",
       "      <td>2</td>\n",
       "    </tr>\n",
       "    <tr>\n",
       "      <td>MPN546</td>\n",
       "      <td>2</td>\n",
       "    </tr>\n",
       "    <tr>\n",
       "      <td>MPN299</td>\n",
       "      <td>2</td>\n",
       "    </tr>\n",
       "  </tbody>\n",
       "</table>\n",
       "</div>"
      ],
      "text/plain": [
       "        path\n",
       "ide         \n",
       "MPN667     1\n",
       "MPN257     1\n",
       "MPN350     2\n",
       "MPN546     2\n",
       "MPN299     2"
      ]
     },
     "execution_count": 95,
     "metadata": {},
     "output_type": "execute_result"
    }
   ],
   "source": [
    "# Path info\n",
    "mpneupath = pd.read_csv('./data/mpneumoniae_paths.txt', index_col='ide')\n",
    "magalpath = pd.read_csv('./data/magalactiae_paths.txt', index_col='ide')\n",
    "\n",
    "mpneupath.head(5) # first 5 cases"
   ]
  },
  {
   "cell_type": "code",
   "execution_count": 100,
   "metadata": {
    "hideCode": false,
    "hidePrompt": false
   },
   "outputs": [
    {
     "data": {
      "text/html": [
       "<div>\n",
       "<style scoped>\n",
       "    .dataframe tbody tr th:only-of-type {\n",
       "        vertical-align: middle;\n",
       "    }\n",
       "\n",
       "    .dataframe tbody tr th {\n",
       "        vertical-align: top;\n",
       "    }\n",
       "\n",
       "    .dataframe thead th {\n",
       "        text-align: right;\n",
       "    }\n",
       "</style>\n",
       "<table border=\"1\" class=\"dataframe\">\n",
       "  <thead>\n",
       "    <tr style=\"text-align: right;\">\n",
       "      <th></th>\n",
       "      <th>au</th>\n",
       "      <th>logau</th>\n",
       "    </tr>\n",
       "    <tr>\n",
       "      <th>ide</th>\n",
       "      <th></th>\n",
       "      <th></th>\n",
       "    </tr>\n",
       "  </thead>\n",
       "  <tbody>\n",
       "    <tr>\n",
       "      <td>MPN674</td>\n",
       "      <td>427925000.0</td>\n",
       "      <td>28.672783</td>\n",
       "    </tr>\n",
       "    <tr>\n",
       "      <td>MPN533</td>\n",
       "      <td>949950000.0</td>\n",
       "      <td>29.823276</td>\n",
       "    </tr>\n",
       "    <tr>\n",
       "      <td>MPN564</td>\n",
       "      <td>5048000.0</td>\n",
       "      <td>22.267280</td>\n",
       "    </tr>\n",
       "    <tr>\n",
       "      <td>MPN066</td>\n",
       "      <td>191700000.0</td>\n",
       "      <td>27.514275</td>\n",
       "    </tr>\n",
       "    <tr>\n",
       "      <td>MPN268</td>\n",
       "      <td>88250000.0</td>\n",
       "      <td>26.395093</td>\n",
       "    </tr>\n",
       "    <tr>\n",
       "      <td>MPN062</td>\n",
       "      <td>517400000.0</td>\n",
       "      <td>28.946705</td>\n",
       "    </tr>\n",
       "    <tr>\n",
       "      <td>MPN303</td>\n",
       "      <td>409600000.0</td>\n",
       "      <td>28.609640</td>\n",
       "    </tr>\n",
       "    <tr>\n",
       "      <td>MPN473</td>\n",
       "      <td>10279500.0</td>\n",
       "      <td>23.293267</td>\n",
       "    </tr>\n",
       "    <tr>\n",
       "      <td>MPN017</td>\n",
       "      <td>17545000.0</td>\n",
       "      <td>24.064557</td>\n",
       "    </tr>\n",
       "    <tr>\n",
       "      <td>MPN060</td>\n",
       "      <td>360725000.0</td>\n",
       "      <td>28.426324</td>\n",
       "    </tr>\n",
       "  </tbody>\n",
       "</table>\n",
       "</div>"
      ],
      "text/plain": [
       "                 au      logau\n",
       "ide                           \n",
       "MPN674  427925000.0  28.672783\n",
       "MPN533  949950000.0  29.823276\n",
       "MPN564    5048000.0  22.267280\n",
       "MPN066  191700000.0  27.514275\n",
       "MPN268   88250000.0  26.395093\n",
       "MPN062  517400000.0  28.946705\n",
       "MPN303  409600000.0  28.609640\n",
       "MPN473   10279500.0  23.293267\n",
       "MPN017   17545000.0  24.064557\n",
       "MPN060  360725000.0  28.426324"
      ]
     },
     "execution_count": 100,
     "metadata": {},
     "output_type": "execute_result"
    }
   ],
   "source": [
    "# Load quantification info (available in data):\n",
    "mpneuquant = pd.read_csv('./data/mpneumoniae_quant.txt', sep='\\t', index_col='ide')\n",
    "magalquant = pd.read_csv('./data/magalactiae_quant.txt', sep='\\t', index_col='ide')\n",
    "\n",
    "mpneuquant.head(10)"
   ]
  },
  {
   "cell_type": "markdown",
   "metadata": {
    "hideCode": false,
    "hideOutput": false,
    "hidePrompt": false
   },
   "source": [
    "## Run Coeff of Variation analysis"
   ]
  },
  {
   "cell_type": "code",
   "execution_count": 81,
   "metadata": {
    "hideCode": false,
    "hidePrompt": false
   },
   "outputs": [
    {
     "name": "stdout",
     "output_type": "stream",
     "text": [
      "['MPN667', 'MPN257']\n",
      "['MPN350', 'MPN546', 'MPN299', 'MPN637', 'MPN253']\n",
      "['MPN302', 'MPN250']\n",
      "['MPN430', 'MPN303', 'MPN606', 'MPN429', 'MPN628']\n",
      "['MPN394', 'MPN390', 'MPN391', 'MPN392', 'MPN393']\n",
      "['MPN533', 'MPN428']\n",
      "['MPN493', 'MPN495', 'MPN494', 'MPN498', 'MPN496', 'MPN492', 'MPN497']\n",
      "['MPN595', 'MPN251']\n",
      "['MPN667', 'MPN257']\n",
      "['MPN350', 'MPN546', 'MPN299', 'MPN637', 'MPN253']\n",
      "['MPN302', 'MPN250']\n",
      "['MPN430', 'MPN303', 'MPN606', 'MPN429', 'MPN628']\n",
      "['MPN394', 'MPN390', 'MPN391', 'MPN392', 'MPN393']\n",
      "['MPN533', 'MPN428']\n",
      "['MPN493', 'MPN495', 'MPN494', 'MPN498', 'MPN496', 'MPN492', 'MPN497']\n",
      "['MPN595', 'MPN251']\n"
     ]
    }
   ],
   "source": [
    "mpneucvs = run_analysis(mpneupath, mpneuquant)\n",
    "magalcvs = run_analysis(mpneupath, mpneuquant)"
   ]
  },
  {
   "cell_type": "code",
   "execution_count": 82,
   "metadata": {
    "hideCode": false,
    "hidePrompt": false
   },
   "outputs": [
    {
     "data": {
      "text/html": [
       "<div>\n",
       "<style scoped>\n",
       "    .dataframe tbody tr th:only-of-type {\n",
       "        vertical-align: middle;\n",
       "    }\n",
       "\n",
       "    .dataframe tbody tr th {\n",
       "        vertical-align: top;\n",
       "    }\n",
       "\n",
       "    .dataframe thead th {\n",
       "        text-align: right;\n",
       "    }\n",
       "</style>\n",
       "<table border=\"1\" class=\"dataframe\">\n",
       "  <thead>\n",
       "    <tr style=\"text-align: right;\">\n",
       "      <th></th>\n",
       "      <th>genes</th>\n",
       "      <th>raw CV</th>\n",
       "      <th>log(CV)</th>\n",
       "      <th>type</th>\n",
       "      <th>path</th>\n",
       "    </tr>\n",
       "  </thead>\n",
       "  <tbody>\n",
       "    <tr>\n",
       "      <td>0</td>\n",
       "      <td>MPN667|MPN257</td>\n",
       "      <td>20.64</td>\n",
       "      <td>1.17</td>\n",
       "      <td>observed</td>\n",
       "      <td>1</td>\n",
       "    </tr>\n",
       "    <tr>\n",
       "      <td>1</td>\n",
       "      <td>MPN445|MPN218</td>\n",
       "      <td>40.29</td>\n",
       "      <td>2.33</td>\n",
       "      <td>expected</td>\n",
       "      <td>1</td>\n",
       "    </tr>\n",
       "    <tr>\n",
       "      <td>2</td>\n",
       "      <td>MPN395|MPN250</td>\n",
       "      <td>56.18</td>\n",
       "      <td>3.26</td>\n",
       "      <td>expected</td>\n",
       "      <td>1</td>\n",
       "    </tr>\n",
       "    <tr>\n",
       "      <td>3</td>\n",
       "      <td>MPN043|MPN603</td>\n",
       "      <td>91.89</td>\n",
       "      <td>9.37</td>\n",
       "      <td>expected</td>\n",
       "      <td>1</td>\n",
       "    </tr>\n",
       "    <tr>\n",
       "      <td>4</td>\n",
       "      <td>MPN597|MPN322</td>\n",
       "      <td>78.25</td>\n",
       "      <td>5.57</td>\n",
       "      <td>expected</td>\n",
       "      <td>1</td>\n",
       "    </tr>\n",
       "    <tr>\n",
       "      <td>5</td>\n",
       "      <td>MPN493|MPN066</td>\n",
       "      <td>79.27</td>\n",
       "      <td>5.99</td>\n",
       "      <td>expected</td>\n",
       "      <td>1</td>\n",
       "    </tr>\n",
       "    <tr>\n",
       "      <td>6</td>\n",
       "      <td>MPN667|MPN240</td>\n",
       "      <td>51.10</td>\n",
       "      <td>3.09</td>\n",
       "      <td>expected</td>\n",
       "      <td>1</td>\n",
       "    </tr>\n",
       "    <tr>\n",
       "      <td>7</td>\n",
       "      <td>MPN236|MPN321</td>\n",
       "      <td>13.46</td>\n",
       "      <td>0.70</td>\n",
       "      <td>expected</td>\n",
       "      <td>1</td>\n",
       "    </tr>\n",
       "    <tr>\n",
       "      <td>8</td>\n",
       "      <td>MPN627|MPN064</td>\n",
       "      <td>21.90</td>\n",
       "      <td>1.15</td>\n",
       "      <td>expected</td>\n",
       "      <td>1</td>\n",
       "    </tr>\n",
       "    <tr>\n",
       "      <td>9</td>\n",
       "      <td>MPN445|MPN601</td>\n",
       "      <td>8.12</td>\n",
       "      <td>0.46</td>\n",
       "      <td>expected</td>\n",
       "      <td>1</td>\n",
       "    </tr>\n",
       "  </tbody>\n",
       "</table>\n",
       "</div>"
      ],
      "text/plain": [
       "           genes  raw CV  log(CV)      type  path\n",
       "0  MPN667|MPN257   20.64     1.17  observed     1\n",
       "1  MPN445|MPN218   40.29     2.33  expected     1\n",
       "2  MPN395|MPN250   56.18     3.26  expected     1\n",
       "3  MPN043|MPN603   91.89     9.37  expected     1\n",
       "4  MPN597|MPN322   78.25     5.57  expected     1\n",
       "5  MPN493|MPN066   79.27     5.99  expected     1\n",
       "6  MPN667|MPN240   51.10     3.09  expected     1\n",
       "7  MPN236|MPN321   13.46     0.70  expected     1\n",
       "8  MPN627|MPN064   21.90     1.15  expected     1\n",
       "9  MPN445|MPN601    8.12     0.46  expected     1"
      ]
     },
     "execution_count": 82,
     "metadata": {},
     "output_type": "execute_result"
    }
   ],
   "source": [
    "mpneucvs.head(10) # observed is the actual sample, expected are results of randomization"
   ]
  },
  {
   "cell_type": "markdown",
   "metadata": {
    "hideCode": false,
    "hidePrompt": false
   },
   "source": [
    "## Boxplots"
   ]
  },
  {
   "cell_type": "code",
   "execution_count": 89,
   "metadata": {
    "hideCode": false,
    "hidePrompt": false
   },
   "outputs": [
    {
     "data": {
      "image/png": "[encoded data removed]",
      "text/plain": [
       "<Figure size 936x936 with 8 Axes>"
      ]
     },
     "metadata": {
      "needs_background": "light"
     },
     "output_type": "display_data"
    }
   ],
   "source": [
    "plt.figure(figsize=(13,13))\n",
    "plt.subplot(2,4,1)\n",
    "\n",
    "sns.boxplot(y='raw CV', x='path', hue='type', data=mpneucvs)\n",
    "plt.title('raw mpneumoniae')\n",
    "plt.subplot(2,4,2)\n",
    "sns.boxplot(y='raw CV', x='type', data=mpneucvs)\n",
    "plt.title('raw mpneumoniae')\n",
    "plt.subplot(2,4,3)\n",
    "sns.boxplot(y='log(CV)', x='path', hue='type', data=mpneucvs)\n",
    "plt.title('log mpneumoniae')\n",
    "plt.subplot(2,4,4)\n",
    "sns.boxplot(y='log(CV)', x='type', data=mpneucvs)\n",
    "plt.title('log mpneumoniae')\n",
    "\n",
    "plt.subplot(2,4,5)\n",
    "sns.boxplot(y='raw CV', x='path', hue='type', data=magalcvs)\n",
    "plt.title('raw_magalactiae')\n",
    "plt.subplot(2,4,6)\n",
    "sns.boxplot(y='raw CV', x='type', data=magalcvs)\n",
    "plt.title('raw_magalactiae')\n",
    "plt.subplot(2,4,7)\n",
    "sns.boxplot(y='log(CV)', x='path', hue='type', data=magalcvs)\n",
    "plt.title('log_magalactiae')\n",
    "plt.subplot(2,4,8)\n",
    "sns.boxplot(y='log(CV)', x='type', data=magalcvs)\n",
    "plt.title('log_magalactiae')\n",
    "\n",
    "plt.tight_layout()"
   ]
  },
  {
   "cell_type": "code",
   "execution_count": null,
   "metadata": {
    "collapsed": true
   },
   "outputs": [],
   "source": []
  }
 ],
 "metadata": {
  "hide_code_all_hidden": false,
  "kernelspec": {
   "display_name": "Python 3",
   "language": "python",
   "name": "python3"
  },
  "language_info": {
   "codemirror_mode": {
    "name": "ipython",
    "version": 3
   },
   "file_extension": ".py",
   "mimetype": "text/x-python",
   "name": "python",
   "nbconvert_exporter": "python",
   "pygments_lexer": "ipython3",
   "version": "3.6.9"
  }
 },
 "nbformat": 4,
 "nbformat_minor": 2
}
